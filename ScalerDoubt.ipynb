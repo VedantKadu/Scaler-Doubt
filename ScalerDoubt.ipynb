{
  "nbformat": 4,
  "nbformat_minor": 0,
  "metadata": {
    "colab": {
      "provenance": [],
      "authorship_tag": "ABX9TyPAbAdIkA2sIXWjeCIF6qty",
      "include_colab_link": true
    },
    "kernelspec": {
      "name": "python3",
      "display_name": "Python 3"
    },
    "language_info": {
      "name": "python"
    }
  },
  "cells": [
    {
      "cell_type": "markdown",
      "metadata": {
        "id": "view-in-github",
        "colab_type": "text"
      },
      "source": [
        "<a href=\"https://colab.research.google.com/github/VedantKadu/Scaler-Doubt/blob/master/ScalerDoubt.ipynb\" target=\"_parent\"><img src=\"https://colab.research.google.com/assets/colab-badge.svg\" alt=\"Open In Colab\"/></a>"
      ]
    },
    {
      "cell_type": "code",
      "execution_count": null,
      "metadata": {
        "id": "a4zxzVltDhgk"
      },
      "outputs": [],
      "source": []
    },
    {
      "cell_type": "code",
      "source": [
        "twod=[[1,2,3],\"smile\",[4,5,6]]\n",
        "twod"
      ],
      "metadata": {
        "id": "U1aE42mkD89i",
        "outputId": "dffb567c-7dd2-4a27-df19-116a84d288d1",
        "colab": {
          "base_uri": "https://localhost:8080/"
        }
      },
      "execution_count": null,
      "outputs": [
        {
          "output_type": "execute_result",
          "data": {
            "text/plain": [
              "[[1, 2, 3], 'smile', [4, 5, 6]]"
            ]
          },
          "metadata": {},
          "execution_count": 1
        }
      ]
    },
    {
      "cell_type": "code",
      "source": [
        "twod[1][2]"
      ],
      "metadata": {
        "colab": {
          "base_uri": "https://localhost:8080/",
          "height": 36
        },
        "id": "tFZ9YsY1yvfD",
        "outputId": "a4b5c2d3-c494-4c13-9929-28da44f78100"
      },
      "execution_count": null,
      "outputs": [
        {
          "output_type": "execute_result",
          "data": {
            "text/plain": [
              "'i'"
            ],
            "application/vnd.google.colaboratory.intrinsic+json": {
              "type": "string"
            }
          },
          "metadata": {},
          "execution_count": 2
        }
      ]
    },
    {
      "cell_type": "code",
      "source": [
        "A=[[1,2],[3,4]]\n",
        "B=[[5,6],[7,8]]"
      ],
      "metadata": {
        "id": "pgBrLFEl1psQ"
      },
      "execution_count": null,
      "outputs": []
    },
    {
      "cell_type": "code",
      "source": [
        "m,n=2,2\n",
        "n,p=2,2\n",
        "res=[]\n",
        "\n",
        "for i in range(m):\n",
        "  temp=[]\n",
        "  for j in range(n):\n",
        "    c=0\n",
        "    for k in range(p):\n",
        "      c+=A[i][k]*B[k][j]\n",
        "    temp.append(c)\n",
        "  res.append(temp)\n",
        "res"
      ],
      "metadata": {
        "colab": {
          "base_uri": "https://localhost:8080/"
        },
        "id": "gAP3Ncn2y3tv",
        "outputId": "b9b68e0d-8ea1-419f-dbb9-d08467f6f9f8"
      },
      "execution_count": null,
      "outputs": [
        {
          "output_type": "execute_result",
          "data": {
            "text/plain": [
              "[[19, 22], [43, 50]]"
            ]
          },
          "metadata": {},
          "execution_count": 6
        }
      ]
    },
    {
      "cell_type": "code",
      "source": [],
      "metadata": {
        "id": "UD7ceaRN2lkV"
      },
      "execution_count": null,
      "outputs": []
    }
  ]
}